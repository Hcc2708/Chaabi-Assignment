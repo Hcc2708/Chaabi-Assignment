{
 "cells": [
  {
   "cell_type": "markdown",
   "id": "0541e4ee",
   "metadata": {},
   "source": [
    "# Q1 selection sort"
   ]
  },
  {
   "cell_type": "code",
   "execution_count": 8,
   "id": "29527c97",
   "metadata": {},
   "outputs": [
    {
     "name": "stdout",
     "output_type": "stream",
     "text": [
      "[5, 15, 21, 54, 416, 741, 6135]\n"
     ]
    }
   ],
   "source": [
    "def selection_sort(l1):\n",
    "    for i in range(0, len(l1)-1):\n",
    "        min_val  = l1[i]\n",
    "        min_val_index = i\n",
    "        \n",
    "        for j in range(i+1, len(l1)):\n",
    "            if(l1[j] < min_val):\n",
    "                min_val = l1[j]\n",
    "                min_val_index = j\n",
    "                \n",
    "        if(min_val_index != i):\n",
    "            l1[i],l1[min_val_index] = l1[min_val_index], l1[i]\n",
    "            \n",
    "    return l1\n",
    "            \n",
    "sorted_list = selection_sort([5,416,54,21,6135,15,741])\n",
    "print(sorted_list)"
   ]
  },
  {
   "cell_type": "markdown",
   "id": "70fd44d6",
   "metadata": {},
   "source": [
    "# Q2 get file type"
   ]
  },
  {
   "cell_type": "code",
   "execution_count": 9,
   "id": "91eaa65b",
   "metadata": {},
   "outputs": [
    {
     "name": "stdout",
     "output_type": "stream",
     "text": [
      "{'abc.jpg': 'image', 'xyz.xls': 'spreadsheet', 'text.csv': 'unknown', '123': 'unknown'}\n"
     ]
    }
   ],
   "source": [
    "def f2(extension_type, file_names):\n",
    "    file_type = {}\n",
    "    extension_type_pairs = extension_type.split(\";\")\n",
    "    \n",
    "    for file_name in file_names:\n",
    "        file_extension = file_name.split(\".\")[-1]\n",
    "        f_type = \"unknown\"\n",
    "        \n",
    "        for pair in extension_type_pairs:\n",
    "            extension, f1_type = pair.split(\",\")\n",
    "            if extension == file_extension:\n",
    "                f_type = f1_type\n",
    "                break\n",
    "        \n",
    "        file_type[file_name] = f_type\n",
    "    \n",
    "    return file_type\n",
    "\n",
    "extension_type = \"xls,spreadsheet;xlsx,spreadsheet;jpg,image\"\n",
    "file_names = [\"abc.jpg\", \"xyz.xls\", \"text.csv\", \"123\"]\n",
    "\n",
    "file_types = f2(extension_type, file_names)\n",
    "\n",
    "print(file_types)"
   ]
  },
  {
   "cell_type": "markdown",
   "id": "dfc280a2",
   "metadata": {},
   "source": [
    "# Q3 sort the list"
   ]
  },
  {
   "cell_type": "code",
   "execution_count": 10,
   "id": "52c58ce2",
   "metadata": {},
   "outputs": [
    {
     "name": "stdout",
     "output_type": "stream",
     "text": [
      "[{'fruit': 'apple', 'color': 'red'}, {'fruit': 'banana', 'color': 'yellow'}, {'fruit': 'blueberry', 'color': 'blue'}, {'fruit': 'orange', 'color': 'orange'}]\n",
      "[{'fruit': 'blueberry', 'color': 'blue'}, {'fruit': 'orange', 'color': 'orange'}, {'fruit': 'apple', 'color': 'red'}, {'fruit': 'banana', 'color': 'yellow'}]\n"
     ]
    }
   ],
   "source": [
    "def sort_list(list1, key):\n",
    "    for i in range(0, len(list1)):\n",
    "        \n",
    "        for j in range(1, len(list1)-i):\n",
    "            value1 = list1[j-1][key]\n",
    "            value2 = list1[j][key]\n",
    "            \n",
    "            if(value1 > value2):\n",
    "                list1[j-1], list1[j] = list1[j], list1[j-1]\n",
    "                \n",
    "    return list1\n",
    "\n",
    "print(sort_list([\n",
    "{\"fruit\": \"orange\", \"color\": \"orange\"},\n",
    "{\"fruit\": \"apple\", \"color\": \"red\"},\n",
    "{\"fruit\": \"banana\", \"color\": \"yellow\"},\n",
    "{\"fruit\": \"blueberry\", \"color\": \"blue\"}\n",
    "], \"fruit\"))\n",
    "\n",
    "print(sort_list([\n",
    "{\"fruit\": \"orange\", \"color\": \"orange\"},\n",
    "{\"fruit\": \"apple\", \"color\": \"red\"},\n",
    "{\"fruit\": \"banana\", \"color\": \"yellow\"},\n",
    "{\"fruit\": \"blueberry\", \"color\": \"blue\"}\n",
    "], \"color\"))\n"
   ]
  },
  {
   "cell_type": "markdown",
   "id": "c12271c0",
   "metadata": {},
   "source": [
    "# Q4 swap key with value"
   ]
  },
  {
   "cell_type": "code",
   "execution_count": 11,
   "id": "8dd3dece",
   "metadata": {},
   "outputs": [
    {
     "name": "stdout",
     "output_type": "stream",
     "text": [
      "{'value1': 'key1', 'value2': 'key2', 'value3': 'key3', 'value4': 'key4', 'value5': 'key5'}\n"
     ]
    }
   ],
   "source": [
    "def swap_key_value(dict1):\n",
    "    return {value : key for key, value in dict1.items()}\n",
    "\n",
    "print(swap_key_value({\n",
    "\"key1\": \"value1\",\n",
    "\"key2\": \"value2\",\n",
    "\"key3\": \"value3\",\n",
    "\"key4\": \"value4\",\n",
    "\"key5\": \"value5\"\n",
    "}))"
   ]
  },
  {
   "cell_type": "markdown",
   "id": "60eefae1",
   "metadata": {},
   "source": [
    "# Q5 find common, not common"
   ]
  },
  {
   "cell_type": "code",
   "execution_count": 12,
   "id": "c7fe4531",
   "metadata": {},
   "outputs": [
    {
     "name": "stdout",
     "output_type": "stream",
     "text": [
      "(['One Piece', 'Attack On Titan'], ['One Punch Man', 'Sword/ Art Online', 'Bleach', 'Dragon Ball Z', 'Full Metal Alchemist', 'Code Geass', 'Death Note', \"Stein's Gate\", 'The Devil is a Part Timer!'])\n"
     ]
    }
   ],
   "source": [
    "def common_notcommon(mainstream, must_watch):\n",
    "    intersection = [ele for ele in must_watch if ele in mainstream ]\n",
    "    sym_diff = [ele1 for ele1 in mainstream if ele1 not in intersection]\n",
    "    sym_diff.extend([ele2 for ele2 in must_watch if ele2 not in intersection])\n",
    "    \n",
    "    return intersection, sym_diff\n",
    "\n",
    "Mainstream = [\"One Punch Man\",\"Attack On Titan\",\"One Piece\",\"Sword/ Art Online\",\"Bleach\",\"Dragon Ball Z\",\"One Piece\"]\n",
    "must_watch = [\"Full Metal Alchemist\",\"Code Geass\",\"Death Note\",\"Stein's Gate\",\"The Devil is a Part Timer!\",\"One Piece\",\"Attack On Titan\"]\n",
    "print(common_notcommon(Mainstream, must_watch))"
   ]
  },
  {
   "cell_type": "markdown",
   "id": "a81056e3",
   "metadata": {},
   "source": [
    "# Q6  Every other sub-list"
   ]
  },
  {
   "cell_type": "code",
   "execution_count": 1,
   "id": "04dcdede",
   "metadata": {},
   "outputs": [
    {
     "name": "stdout",
     "output_type": "stream",
     "text": [
      "[5, 11, 17, 23]\n"
     ]
    }
   ],
   "source": [
    "def sub_list(l1, i, j):\n",
    "    return [l1[k] for k in range(i, j+1, 2)]\n",
    "\n",
    "print(sub_list([2,3,5,7,11,13,17,19,23,29,31,37,41], 2, 9))"
   ]
  },
  {
   "cell_type": "markdown",
   "id": "71b74650",
   "metadata": {},
   "source": [
    "# Q7 factorial of a number using lambda function"
   ]
  },
  {
   "cell_type": "code",
   "execution_count": 2,
   "id": "fc3ee0ad",
   "metadata": {},
   "outputs": [
    {
     "name": "stdout",
     "output_type": "stream",
     "text": [
      "120\n"
     ]
    }
   ],
   "source": [
    "fact = lambda x: 1 if x == 0 else x* fact(x-1)\n",
    "# n = int(input())\n",
    "n = 5\n",
    "print(fact(n))"
   ]
  },
  {
   "cell_type": "markdown",
   "id": "771d3820",
   "metadata": {},
   "source": [
    "# Q8 Some neat tricks up her sleeve:"
   ]
  },
  {
   "cell_type": "code",
   "execution_count": 3,
   "id": "7305e017",
   "metadata": {
    "scrolled": true
   },
   "outputs": [
    {
     "name": "stdout",
     "output_type": "stream",
     "text": [
      "A0:  {'a': 1, 'b': 2, 'c': 3, 'd': 4, 'e': 5}\n",
      "A1:  [0, 1, 2, 3, 4, 5, 6, 7, 8, 9]\n",
      "A2:  [1, 2, 3, 4, 5]\n",
      "A3:  [1, 2, 3, 4, 5]\n",
      "A4:  [1, 2, 3, 4, 5]\n",
      "A5:  {0: 0, 1: 1, 2: 4, 3: 9, 4: 16, 5: 25, 6: 36, 7: 49, 8: 64, 9: 81}\n",
      "A6:  [[0, 0], [1, 1], [2, 4], [3, 9], [4, 16], [5, 25], [6, 36], [7, 49], [8, 64], [9, 81]]\n",
      "A7:  21\n",
      "A8:  [2, 4, 6, 8]\n",
      "A9:  ['want', 'learn', 'python']\n"
     ]
    }
   ],
   "source": [
    "from functools import reduce\n",
    "A0 = dict(zip(('a','b','c','d','e'),(1,2,3,4,5)))\n",
    "print(\"A0: \", A0)\n",
    "A1 = list(range(10))\n",
    "print(\"A1: \", A1)\n",
    "A2 = sorted([i for i in A1 if i in A0.values()])\n",
    "print(\"A2: \", A2)\n",
    "A3 = sorted([A0[s] for s in A0])\n",
    "print(\"A3: \", A3)\n",
    "A4 = [i for i in A1 if i in A3]\n",
    "print(\"A4: \", A4)\n",
    "A5 = {i:i*i for i in A1}\n",
    "print(\"A5: \", A5)\n",
    "A6 = [[i,i*i] for i in A1]\n",
    "print(\"A6: \", A6)\n",
    "A7 = reduce(lambda x,y: x+y, [10,23, -45, 33])\n",
    "print(\"A7: \", A7)\n",
    "A8 = list(map(lambda x: x*2, [1,2,3,4]))\n",
    "print(\"A8: \", A8)\n",
    "A9 = list(filter(lambda x: len(x) >3, [\"I\" , \"want\", \"to\", \"learn\", \"python\"]))\n",
    "print(\"A9: \", A9)"
   ]
  },
  {
   "cell_type": "markdown",
   "id": "c00ba2b2",
   "metadata": {},
   "source": [
    "# Q9 datetime"
   ]
  },
  {
   "cell_type": "code",
   "execution_count": 4,
   "id": "0692245b",
   "metadata": {},
   "outputs": [
    {
     "name": "stdout",
     "output_type": "stream",
     "text": [
      "True\n"
     ]
    }
   ],
   "source": [
    "from datetime import datetime\n",
    "\n",
    "def day_diff(from_date, to_date, difference):\n",
    "    from_date = datetime.strptime(from_date, \"%Y-%m-%d\")\n",
    "    to_date = datetime.strptime(to_date, \"%Y-%m-%d\")\n",
    "    return True if((to_date-from_date).days < difference) else False\n",
    "\n",
    "# from_date = input()\n",
    "# to_date = input()\n",
    "# difference = int(input())\n",
    "from_date = \"2016-08-07\"\n",
    "to_date = \"2016-09-11\"\n",
    "difference = 45\n",
    "print(day_diff(from_date, to_date, difference))"
   ]
  },
  {
   "cell_type": "markdown",
   "id": "266726a5",
   "metadata": {},
   "source": [
    "# Q10 datetime"
   ]
  },
  {
   "cell_type": "code",
   "execution_count": 5,
   "id": "fbf4886d",
   "metadata": {},
   "outputs": [
    {
     "name": "stdout",
     "output_type": "stream",
     "text": [
      "2023-05-21\n"
     ]
    }
   ],
   "source": [
    "from datetime import datetime, timedelta\n",
    "\n",
    "def n_days_before(date, n):\n",
    "    date = datetime.strptime(date, \"%Y-%m-%d\")\n",
    "    new_date = date - timedelta(days = n)\n",
    "    \n",
    "    return new_date.strftime(\"%Y-%m-%d\")\n",
    "\n",
    "# date = input()\n",
    "# n = input()\n",
    "print(n_days_before(\"2023-06-10\", 20))"
   ]
  },
  {
   "cell_type": "markdown",
   "id": "c6c4c8f9",
   "metadata": {},
   "source": [
    "# Q11 what is the problem with code?"
   ]
  },
  {
   "cell_type": "code",
   "execution_count": 8,
   "id": "3e49d040",
   "metadata": {},
   "outputs": [
    {
     "name": "stdout",
     "output_type": "stream",
     "text": [
      "[0, 1]\n",
      "[3, 2, 1, 0, 1, 4]\n",
      "[0, 1, 0, 1, 4]\n"
     ]
    }
   ],
   "source": [
    "def f(x, l = []):\n",
    "    for i in range(x):\n",
    "        l.append(i*i)\n",
    "        \n",
    "    print(l)\n",
    "    \n",
    "f(2) # here the value of l will be initialized by 0, 1 \n",
    "f(3,[3,2,1]) # now the l will be overloaded by 3,2,1\n",
    "f(3) # no overloaded value and l will use the already initialized value by first call of the function\n",
    "    # that is 0, 1 by f(2) so use None to resolve the problem, below is the solution for the same"
   ]
  },
  {
   "cell_type": "markdown",
   "id": "b9b7511b",
   "metadata": {},
   "source": [
    "# Q11 Solution for the problem"
   ]
  },
  {
   "cell_type": "code",
   "execution_count": 7,
   "id": "2a06c709",
   "metadata": {},
   "outputs": [
    {
     "name": "stdout",
     "output_type": "stream",
     "text": [
      "[0, 1]\n",
      "[3, 2, 1, 0, 1, 4]\n",
      "[0, 1, 4]\n"
     ]
    }
   ],
   "source": [
    "def f(x, l = None):\n",
    "    if l is None:\n",
    "        l = []\n",
    "        \n",
    "    for i in range(x):\n",
    "        l.append(i*i)\n",
    "        \n",
    "    print(l)\n",
    "    \n",
    "f(2)\n",
    "f(3,[3,2,1]) \n",
    "f(3) "
   ]
  }
 ],
 "metadata": {
  "kernelspec": {
   "display_name": "Python 3",
   "language": "python",
   "name": "python3"
  },
  "language_info": {
   "codemirror_mode": {
    "name": "ipython",
    "version": 3
   },
   "file_extension": ".py",
   "mimetype": "text/x-python",
   "name": "python",
   "nbconvert_exporter": "python",
   "pygments_lexer": "ipython3",
   "version": "3.8.8"
  }
 },
 "nbformat": 4,
 "nbformat_minor": 5
}
